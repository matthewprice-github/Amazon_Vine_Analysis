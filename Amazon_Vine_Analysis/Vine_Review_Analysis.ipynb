{
 "cells": [
  {
   "cell_type": "code",
   "execution_count": 1,
   "metadata": {},
   "outputs": [],
   "source": [
    "import pandas as pd\n",
    "\n",
    "P_vine_df = pd.read_csv(\"vine_table.csv\")"
   ]
  },
  {
   "cell_type": "code",
   "execution_count": 2,
   "metadata": {},
   "outputs": [],
   "source": [
    "#limit to products with > 20 reviews\n",
    "vine_votes_df = P_vine_df[P_vine_df[\"total_votes\"] > 20]"
   ]
  },
  {
   "cell_type": "code",
   "execution_count": 3,
   "metadata": {},
   "outputs": [],
   "source": [
    "#trim the dataframe for helpful votes, also deleting superfluous column\n",
    "trimmed_df = vine_votes_df[vine_votes_df[\"helpful_votes\"]/vine_votes_df[\"total_votes\"] >= .5]\n",
    "trimmed_df = trimmed_df.drop([\"Unnamed: 0\"],axis=1)"
   ]
  },
  {
   "cell_type": "code",
   "execution_count": 4,
   "metadata": {},
   "outputs": [],
   "source": [
    "#create dfs for paid and unpaid reviews \n",
    "unpaid_df = trimmed_df[trimmed_df[\"vine\"] == 'N']\n",
    "paid_df = trimmed_df[trimmed_df[\"vine\"] == 'Y']"
   ]
  },
  {
   "cell_type": "code",
   "execution_count": 10,
   "metadata": {},
   "outputs": [
    {
     "data": {
      "text/html": [
       "<div>\n",
       "<style scoped>\n",
       "    .dataframe tbody tr th:only-of-type {\n",
       "        vertical-align: middle;\n",
       "    }\n",
       "\n",
       "    .dataframe tbody tr th {\n",
       "        vertical-align: top;\n",
       "    }\n",
       "\n",
       "    .dataframe thead th {\n",
       "        text-align: right;\n",
       "    }\n",
       "</style>\n",
       "<table border=\"1\" class=\"dataframe\">\n",
       "  <thead>\n",
       "    <tr style=\"text-align: right;\">\n",
       "      <th></th>\n",
       "      <th>review_id</th>\n",
       "      <th>star_rating</th>\n",
       "      <th>helpful_votes</th>\n",
       "      <th>total_votes</th>\n",
       "      <th>vine</th>\n",
       "      <th>verified_purchase</th>\n",
       "    </tr>\n",
       "  </thead>\n",
       "  <tbody>\n",
       "    <tr>\n",
       "      <th>4229</th>\n",
       "      <td>R1R9RU7JW0MFR2</td>\n",
       "      <td>4.0</td>\n",
       "      <td>20.0</td>\n",
       "      <td>23.0</td>\n",
       "      <td>Y</td>\n",
       "      <td>N</td>\n",
       "    </tr>\n",
       "    <tr>\n",
       "      <th>9120</th>\n",
       "      <td>R19EFYNN3W8Q07</td>\n",
       "      <td>5.0</td>\n",
       "      <td>26.0</td>\n",
       "      <td>32.0</td>\n",
       "      <td>Y</td>\n",
       "      <td>N</td>\n",
       "    </tr>\n",
       "    <tr>\n",
       "      <th>34704</th>\n",
       "      <td>R34DJ1R8AEU0SG</td>\n",
       "      <td>5.0</td>\n",
       "      <td>29.0</td>\n",
       "      <td>35.0</td>\n",
       "      <td>Y</td>\n",
       "      <td>N</td>\n",
       "    </tr>\n",
       "    <tr>\n",
       "      <th>38510</th>\n",
       "      <td>R25P5CXK5L9RHF</td>\n",
       "      <td>5.0</td>\n",
       "      <td>146.0</td>\n",
       "      <td>161.0</td>\n",
       "      <td>Y</td>\n",
       "      <td>N</td>\n",
       "    </tr>\n",
       "    <tr>\n",
       "      <th>49330</th>\n",
       "      <td>R2E9VZB3I4LSN5</td>\n",
       "      <td>5.0</td>\n",
       "      <td>55.0</td>\n",
       "      <td>59.0</td>\n",
       "      <td>Y</td>\n",
       "      <td>N</td>\n",
       "    </tr>\n",
       "  </tbody>\n",
       "</table>\n",
       "</div>"
      ],
      "text/plain": [
       "            review_id  star_rating  helpful_votes  total_votes vine  \\\n",
       "4229   R1R9RU7JW0MFR2          4.0           20.0         23.0    Y   \n",
       "9120   R19EFYNN3W8Q07          5.0           26.0         32.0    Y   \n",
       "34704  R34DJ1R8AEU0SG          5.0           29.0         35.0    Y   \n",
       "38510  R25P5CXK5L9RHF          5.0          146.0        161.0    Y   \n",
       "49330  R2E9VZB3I4LSN5          5.0           55.0         59.0    Y   \n",
       "\n",
       "      verified_purchase  \n",
       "4229                  N  \n",
       "9120                  N  \n",
       "34704                 N  \n",
       "38510                 N  \n",
       "49330                 N  "
      ]
     },
     "execution_count": 10,
     "metadata": {},
     "output_type": "execute_result"
    }
   ],
   "source": [
    "paid_df.head()"
   ]
  },
  {
   "cell_type": "code",
   "execution_count": 6,
   "metadata": {},
   "outputs": [],
   "source": [
    "#find paid review fivestar rating percents \n",
    "paid_total = paid_df[\"review_id\"].count()\n",
    "paid_fivestar = paid_df[paid_df[\"star_rating\"] == 5.0][\"review_id\"].count()\n",
    "paid_fivestar_percentage = paid_fivestar / paid_total"
   ]
  },
  {
   "cell_type": "code",
   "execution_count": 7,
   "metadata": {},
   "outputs": [
    {
     "data": {
      "text/html": [
       "<div>\n",
       "<style scoped>\n",
       "    .dataframe tbody tr th:only-of-type {\n",
       "        vertical-align: middle;\n",
       "    }\n",
       "\n",
       "    .dataframe tbody tr th {\n",
       "        vertical-align: top;\n",
       "    }\n",
       "\n",
       "    .dataframe thead th {\n",
       "        text-align: right;\n",
       "    }\n",
       "</style>\n",
       "<table border=\"1\" class=\"dataframe\">\n",
       "  <thead>\n",
       "    <tr style=\"text-align: right;\">\n",
       "      <th></th>\n",
       "      <th>review_id</th>\n",
       "      <th>star_rating</th>\n",
       "      <th>helpful_votes</th>\n",
       "      <th>total_votes</th>\n",
       "      <th>vine</th>\n",
       "      <th>verified_purchase</th>\n",
       "    </tr>\n",
       "  </thead>\n",
       "  <tbody>\n",
       "    <tr>\n",
       "      <th>28</th>\n",
       "      <td>R2243Y3OD8U6KQ</td>\n",
       "      <td>5.0</td>\n",
       "      <td>47.0</td>\n",
       "      <td>61.0</td>\n",
       "      <td>N</td>\n",
       "      <td>N</td>\n",
       "    </tr>\n",
       "    <tr>\n",
       "      <th>85</th>\n",
       "      <td>R2TGT0CDTCAAHW</td>\n",
       "      <td>5.0</td>\n",
       "      <td>21.0</td>\n",
       "      <td>23.0</td>\n",
       "      <td>N</td>\n",
       "      <td>Y</td>\n",
       "    </tr>\n",
       "    <tr>\n",
       "      <th>457</th>\n",
       "      <td>RX4D22YSXEF4P</td>\n",
       "      <td>1.0</td>\n",
       "      <td>37.0</td>\n",
       "      <td>38.0</td>\n",
       "      <td>N</td>\n",
       "      <td>Y</td>\n",
       "    </tr>\n",
       "    <tr>\n",
       "      <th>1028</th>\n",
       "      <td>R3FL2NTLFUSPTQ</td>\n",
       "      <td>5.0</td>\n",
       "      <td>33.0</td>\n",
       "      <td>37.0</td>\n",
       "      <td>N</td>\n",
       "      <td>N</td>\n",
       "    </tr>\n",
       "    <tr>\n",
       "      <th>1039</th>\n",
       "      <td>R3QTP3YNZXAPPF</td>\n",
       "      <td>3.0</td>\n",
       "      <td>23.0</td>\n",
       "      <td>24.0</td>\n",
       "      <td>N</td>\n",
       "      <td>Y</td>\n",
       "    </tr>\n",
       "  </tbody>\n",
       "</table>\n",
       "</div>"
      ],
      "text/plain": [
       "           review_id  star_rating  helpful_votes  total_votes vine  \\\n",
       "28    R2243Y3OD8U6KQ          5.0           47.0         61.0    N   \n",
       "85    R2TGT0CDTCAAHW          5.0           21.0         23.0    N   \n",
       "457    RX4D22YSXEF4P          1.0           37.0         38.0    N   \n",
       "1028  R3FL2NTLFUSPTQ          5.0           33.0         37.0    N   \n",
       "1039  R3QTP3YNZXAPPF          3.0           23.0         24.0    N   \n",
       "\n",
       "     verified_purchase  \n",
       "28                   N  \n",
       "85                   Y  \n",
       "457                  Y  \n",
       "1028                 N  \n",
       "1039                 Y  "
      ]
     },
     "execution_count": 7,
     "metadata": {},
     "output_type": "execute_result"
    }
   ],
   "source": [
    "unpaid_df.head()"
   ]
  },
  {
   "cell_type": "code",
   "execution_count": 8,
   "metadata": {},
   "outputs": [],
   "source": [
    "#find paid review fivestar rating percents \n",
    "unpaid_total = unpaid_df[\"review_id\"].count()\n",
    "unpaid_fivestar = unpaid_df[unpaid_df[\"star_rating\"] == 5][\"review_id\"].count()\n",
    "unpaid_fivestar_percentage = unpaid_fivestar / unpaid_total"
   ]
  },
  {
   "cell_type": "code",
   "execution_count": 9,
   "metadata": {
    "scrolled": true
   },
   "outputs": [
    {
     "data": {
      "text/html": [
       "<style  type=\"text/css\" >\n",
       "</style><table id=\"T_275f1f9c_f88a_11eb_ac11_0028f8667b95\" ><thead>    <tr>        <th class=\"blank level0\" ></th>        <th class=\"col_heading level0 col0\" >Total Reviews</th>        <th class=\"col_heading level0 col1\" >Five Star Reviews</th>        <th class=\"col_heading level0 col2\" >Five Star Percent</th>    </tr>    <tr>        <th class=\"index_name level0\" >vine</th>        <th class=\"blank\" ></th>        <th class=\"blank\" ></th>        <th class=\"blank\" ></th>    </tr></thead><tbody>\n",
       "                <tr>\n",
       "                        <th id=\"T_275f1f9c_f88a_11eb_ac11_0028f8667b95level0_row0\" class=\"row_heading level0 row0\" >N</th>\n",
       "                        <td id=\"T_275f1f9c_f88a_11eb_ac11_0028f8667b95row0_col0\" class=\"data row0 col0\" >13480</td>\n",
       "                        <td id=\"T_275f1f9c_f88a_11eb_ac11_0028f8667b95row0_col1\" class=\"data row0 col1\" >7678</td>\n",
       "                        <td id=\"T_275f1f9c_f88a_11eb_ac11_0028f8667b95row0_col2\" class=\"data row0 col2\" >56.96%</td>\n",
       "            </tr>\n",
       "            <tr>\n",
       "                        <th id=\"T_275f1f9c_f88a_11eb_ac11_0028f8667b95level0_row1\" class=\"row_heading level0 row1\" >Y</th>\n",
       "                        <td id=\"T_275f1f9c_f88a_11eb_ac11_0028f8667b95row1_col0\" class=\"data row1 col0\" >59</td>\n",
       "                        <td id=\"T_275f1f9c_f88a_11eb_ac11_0028f8667b95row1_col1\" class=\"data row1 col1\" >34</td>\n",
       "                        <td id=\"T_275f1f9c_f88a_11eb_ac11_0028f8667b95row1_col2\" class=\"data row1 col2\" >57.63%</td>\n",
       "            </tr>\n",
       "    </tbody></table>"
      ],
      "text/plain": [
       "<pandas.io.formats.style.Styler at 0x1f381124e88>"
      ]
     },
     "execution_count": 9,
     "metadata": {},
     "output_type": "execute_result"
    }
   ],
   "source": [
    "#create a summary dataframe for easy comparison \n",
    "summary_df = pd.DataFrame(trimmed_df.groupby(\"vine\").count()[\"review_id\"])\n",
    "summary_df.rename(columns={'review_id': 'Total Reviews'}, inplace=True)\n",
    "summary_df[\"Five Star Reviews\"] = [unpaid_fivestar, paid_fivestar]\n",
    "summary_df[\"Five Star Percent\"] = [unpaid_fivestar_percentage, paid_fivestar_percentage]\n",
    "summary_df.style.format({'Five Star Percent': \"{:.2%}\"})"
   ]
  },
  {
   "cell_type": "code",
   "execution_count": null,
   "metadata": {},
   "outputs": [],
   "source": []
  }
 ],
 "metadata": {
  "kernelspec": {
   "display_name": "PythonData",
   "language": "python",
   "name": "pythondata"
  },
  "language_info": {
   "codemirror_mode": {
    "name": "ipython",
    "version": 3
   },
   "file_extension": ".py",
   "mimetype": "text/x-python",
   "name": "python",
   "nbconvert_exporter": "python",
   "pygments_lexer": "ipython3",
   "version": "3.7.9"
  }
 },
 "nbformat": 4,
 "nbformat_minor": 4
}
